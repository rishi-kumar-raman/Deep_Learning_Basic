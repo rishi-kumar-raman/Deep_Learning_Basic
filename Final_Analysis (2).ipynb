{
 "cells": [
  {
   "cell_type": "markdown",
   "id": "3de267e2-2af1-49c0-9c44-c5f843ea2616",
   "metadata": {},
   "source": [
    "## Twitter Tweet Analysis"
   ]
  },
  {
   "cell_type": "code",
   "execution_count": 3,
   "id": "53ce966f-6375-49f5-b945-c45dce8a489d",
   "metadata": {},
   "outputs": [],
   "source": [
    "import pandas as pd\n",
    "import numpy as np\n",
    "import matplotlib.pyplot as plt"
   ]
  },
  {
   "cell_type": "code",
   "execution_count": 5,
   "id": "0a5e5707-8627-4352-82ea-44d7fc55e747",
   "metadata": {},
   "outputs": [],
   "source": [
    "from textblob import TextBlob"
   ]
  },
  {
   "cell_type": "code",
   "execution_count": 12,
   "id": "e68590eb-876d-4ca7-85d0-3186e42a455a",
   "metadata": {},
   "outputs": [],
   "source": [
    "df=pd.read_csv(r'C:\\Users\\Rishi\\OneDrive\\Desktop\\Genai\\Datasets\\Tweets.csv')"
   ]
  },
  {
   "cell_type": "code",
   "execution_count": 16,
   "id": "0c7ddd25-388a-4d1a-9c65-58d617a8ecce",
   "metadata": {},
   "outputs": [
    {
     "data": {
      "text/plain": [
       "Party\n",
       "Republican                 44392\n",
       "Democrat                   42068\n",
       "https://t.co/sbSljdw1Zw        1\n",
       "Name: count, dtype: int64"
      ]
     },
     "execution_count": 16,
     "metadata": {},
     "output_type": "execute_result"
    }
   ],
   "source": [
    "df['Party'].value_counts()"
   ]
  },
  {
   "cell_type": "code",
   "execution_count": 19,
   "id": "fec31eaa-c8a6-404c-b7c3-fbf2945119ea",
   "metadata": {},
   "outputs": [
    {
     "data": {
      "text/plain": [
       "Party    0\n",
       "Tweet    1\n",
       "dtype: int64"
      ]
     },
     "execution_count": 19,
     "metadata": {},
     "output_type": "execute_result"
    }
   ],
   "source": [
    "df.isnull().sum()"
   ]
  },
  {
   "cell_type": "markdown",
   "id": "af6b3546-fcd3-4000-bf9c-b8a1af525685",
   "metadata": {},
   "source": [
    "#### Dropping of null values"
   ]
  },
  {
   "cell_type": "code",
   "execution_count": 24,
   "id": "54f73d1c-2c95-460b-8607-ccf68732263b",
   "metadata": {},
   "outputs": [],
   "source": [
    "new_df=df[~df['Tweet'].isnull()]"
   ]
  },
  {
   "cell_type": "code",
   "execution_count": 25,
   "id": "5555e951-181a-4226-901e-344c3eb8afb0",
   "metadata": {},
   "outputs": [],
   "source": [
    "positive=0\n",
    "negative=0\n",
    "neutral=0\n",
    "polarity=0"
   ]
  },
  {
   "cell_type": "code",
   "execution_count": 34,
   "id": "5f1d2672-3020-4cb7-96b8-d60295dd5d8d",
   "metadata": {},
   "outputs": [],
   "source": [
    "import re\n",
    "import nltk\n",
    "from nltk.corpus import stopwords\n",
    "import nltk as nlp\n",
    "stopwords = stopwords.words('english')"
   ]
  },
  {
   "cell_type": "code",
   "execution_count": 44,
   "id": "e41fe93a-4ef6-4fac-a283-1e34544df75e",
   "metadata": {},
   "outputs": [],
   "source": [
    "democrat=new_df[new_df['Party']==\"Democrat\"]\n",
    "republican=new_df[new_df['Party']==\"Republican\"]"
   ]
  },
  {
   "cell_type": "code",
   "execution_count": 49,
   "id": "0206d799-69f1-484b-8d0e-43d2749cc18c",
   "metadata": {},
   "outputs": [
    {
     "name": "stderr",
     "output_type": "stream",
     "text": [
      "[nltk_data] Downloading package wordnet to\n",
      "[nltk_data]     C:\\Users\\Rishi\\AppData\\Roaming\\nltk_data...\n"
     ]
    },
    {
     "data": {
      "text/plain": [
       "True"
      ]
     },
     "execution_count": 49,
     "metadata": {},
     "output_type": "execute_result"
    }
   ],
   "source": [
    "import nltk\n",
    "nltk.download('wordnet')"
   ]
  },
  {
   "cell_type": "code",
   "execution_count": 71,
   "id": "5a24c553-2113-4b2b-8390-3836a8925ee4",
   "metadata": {},
   "outputs": [],
   "source": [
    "democrat_list=[]\n",
    "for d in democrat.Tweet:\n",
    "    d=re.sub(r'http\\S+', '', d)\n",
    "    d=re.sub(\"[^a-zA-Z]\", \" \", d) \n",
    "    d=d.lower()\n",
    "    d=nltk.word_tokenize(d) \n",
    "    d=[word for word in d if not word in set(stopwords)]\n",
    "    lemma=nlp.WordNetLemmatizer() \n",
    "    d=[lemma.lemmatize(word) for word in d]\n",
    "    d=\" \".join(d)\n",
    "    democrat_list.append(d)"
   ]
  },
  {
   "cell_type": "code",
   "execution_count": 72,
   "id": "24a0b2a7-43f5-4baa-a884-f54096bd7bca",
   "metadata": {},
   "outputs": [
    {
     "data": {
      "text/plain": [
       "['rt chopadvocacy thank repdwightevans cosponsoring child hospital gme support reauthorization act greatl',\n",
       " 'mission accomplished easy mr president mission incomplete develop long term strate',\n",
       " 'proof fight savenetneutrality gaining strength netneutrality',\n",
       " 'last week senator corybooker introduced help student vote act help eliminate challenge voti',\n",
       " 'fema looking talented youth participate youth preparedness council work fema']"
      ]
     },
     "execution_count": 72,
     "metadata": {},
     "output_type": "execute_result"
    }
   ],
   "source": [
    "democrat_list[0:5]"
   ]
  },
  {
   "cell_type": "code",
   "execution_count": 73,
   "id": "de608f11-404c-4550-a5ac-39461db5cef8",
   "metadata": {},
   "outputs": [],
   "source": [
    "republican_list=[]\n",
    "for r in republican.Tweet:\n",
    "    r=re.sub(r'http\\S+', '', r)\n",
    "    r=re.sub(\"[^a-zA-Z]\", \" \", r)\n",
    "    r=r.lower()\n",
    "    r=nltk.word_tokenize(r)\n",
    "    r=[word for word in r if not word in set(stopwords)]\n",
    "    lemma=nlp.WordNetLemmatizer()\n",
    "    r=[lemma.lemmatize(word) for word in r]\n",
    "    r=\" \".join(r)\n",
    "    republican_list.append(r)"
   ]
  },
  {
   "cell_type": "code",
   "execution_count": 74,
   "id": "4b88c838-049c-40fa-b26a-197896ecb7ff",
   "metadata": {},
   "outputs": [
    {
     "data": {
      "text/plain": [
       "['joined manatee educational tv today talk opioids veteran issue check talk coming da',\n",
       " 'joined transport colleague repesty introduce bipartisan bill combat horror human trafficking gt',\n",
       " 'rt housegop th congress working hard issue matter family like funding military co',\n",
       " 'today met cbageorgia talk way supporting community help co',\n",
       " 'joined michael ball christy kenady servingtogether loudoun county veteran coordinator tom grant p']"
      ]
     },
     "execution_count": 74,
     "metadata": {},
     "output_type": "execute_result"
    }
   ],
   "source": [
    "republican_list[0:5]"
   ]
  },
  {
   "cell_type": "code",
   "execution_count": 75,
   "id": "59b1522b-65ef-48e2-a9f3-9a0e3682ece3",
   "metadata": {},
   "outputs": [],
   "source": [
    "democrat_tweets=str(democrat_list).split()\n",
    "republican_tweets=str(republican_list).split()\n",
    "democrat_tweets=[word.replace(\"'\",\"\") for word in democrat_tweets ]\n",
    "democrat_tweets=[word.replace(\"[\", \"\") for word in democrat_tweets ]\n",
    "democrat_tweets=[word.replace(\"]\",\"\") for word in democrat_tweets ]\n",
    "democrat_tweets=[word.replace(\",\", \"\") for word in democrat_tweets ]\n",
    "\n",
    "republican_tweets=[word.replace(\"'\",\"\") for word in republican_tweets ]\n",
    "republican_tweets=[word.replace(\"[\", \"\") for word in republican_tweets ]\n",
    "republican_tweets=[word.replace(\"]\",\"\") for word in republican_tweets ]\n",
    "republican_tweets=[word.replace(\",\", \"\") for word in republican_tweets ]"
   ]
  },
  {
   "cell_type": "code",
   "execution_count": 76,
   "id": "ce9c87e0-9511-442d-8f08-71c79b8882b0",
   "metadata": {},
   "outputs": [],
   "source": [
    "from nltk.probability import FreqDist\n",
    "democrat_list_v2 = FreqDist(democrat_tweets)\n",
    "repub_list_v2=FreqDist(republican_tweets)"
   ]
  },
  {
   "cell_type": "code",
   "execution_count": 90,
   "id": "c35f40ae-dc9b-48d3-ae85-ab19bd2d4a3b",
   "metadata": {},
   "outputs": [
    {
     "data": {
      "text/plain": [
       "FreqDist({'rt': 9088, 'amp': 4830, 'today': 3850, 'trump': 2502, 'u': 2108, 'american': 2053, 'year': 1835, 'thank': 1777, 'family': 1694, 'great': 1676, ...})"
      ]
     },
     "execution_count": 90,
     "metadata": {},
     "output_type": "execute_result"
    }
   ],
   "source": [
    "democrat_list_v2"
   ]
  },
  {
   "cell_type": "code",
   "execution_count": 91,
   "id": "32048296-864d-4ccb-9c45-32c434675073",
   "metadata": {},
   "outputs": [
    {
     "data": {
      "text/plain": [
       "FreqDist({'rt': 9994, 'today': 4883, 'amp': 4802, 'tax': 2885, 'great': 2876, 'u': 2416, 'house': 2382, 'bill': 2379, 'american': 2241, 'thank': 2118, ...})"
      ]
     },
     "execution_count": 91,
     "metadata": {},
     "output_type": "execute_result"
    }
   ],
   "source": [
    "repub_list_v2"
   ]
  },
  {
   "cell_type": "markdown",
   "id": "2e811ee6-9762-4240-81e5-f2815bc6d732",
   "metadata": {},
   "source": [
    "#### Freq Counter of words used by democrats and republicans"
   ]
  },
  {
   "cell_type": "code",
   "execution_count": 95,
   "id": "d57b18a1-da4e-41f8-8784-21dcd188ecf1",
   "metadata": {},
   "outputs": [
    {
     "data": {
      "image/png": "[encoded data removed]",
      "text/plain": [
       "<Figure size 1000x500 with 1 Axes>"
      ]
     },
     "metadata": {},
     "output_type": "display_data"
    },
    {
     "data": {
      "image/png": "[encoded data removed]",
      "text/plain": [
       "<Figure size 1000x500 with 1 Axes>"
      ]
     },
     "metadata": {},
     "output_type": "display_data"
    }
   ],
   "source": [
    "import matplotlib.pyplot as plt\n",
    "plt.subplots(figsize=(10,5))\n",
    "democrat_list_v2.plot(30,title=\"Democrat Tweets\")\n",
    "plt.subplots(figsize=(10,5))\n",
    "repub_list_v2.plot(30,title=\"Republican Tweets\")\n",
    "plt.show()"
   ]
  },
  {
   "cell_type": "markdown",
   "id": "24940d07-2b27-4f47-afce-587495bf0306",
   "metadata": {},
   "source": [
    "#### From the above analysis Republicans have a better polarity score as compared to democrats"
   ]
  },
  {
   "cell_type": "code",
   "execution_count": 87,
   "id": "154251ce-936d-49c9-ac08-97386ef33075",
   "metadata": {},
   "outputs": [],
   "source": [
    "from textblob import TextBlob\n",
    "democrat_blob=TextBlob(str(democrat_tweets))\n",
    "republican_blob=TextBlob(str(republican_tweets))"
   ]
  },
  {
   "cell_type": "code",
   "execution_count": 88,
   "id": "ba9a238b-2fa0-440b-b86f-464a137db798",
   "metadata": {},
   "outputs": [
    {
     "data": {
      "text/plain": [
       "Sentiment(polarity=0.16429387626634429, subjectivity=0.463833415477823)"
      ]
     },
     "execution_count": 88,
     "metadata": {},
     "output_type": "execute_result"
    }
   ],
   "source": [
    "democrat_blob.sentiment"
   ]
  },
  {
   "cell_type": "code",
   "execution_count": 89,
   "id": "890f74fc-a08a-4805-bbfa-040c7fe5c022",
   "metadata": {},
   "outputs": [
    {
     "data": {
      "text/plain": [
       "Sentiment(polarity=0.1978679565229401, subjectivity=0.4585420333029353)"
      ]
     },
     "execution_count": 89,
     "metadata": {},
     "output_type": "execute_result"
    }
   ],
   "source": [
    "republican_blob.sentiment"
   ]
  },
  {
   "cell_type": "code",
   "execution_count": 97,
   "id": "a26760de-76a9-48ff-b084-0ccd7eab0fcb",
   "metadata": {},
   "outputs": [
    {
     "data": {
      "text/plain": [
       "Party\n",
       "Republican    0.51344\n",
       "Democrat      0.48656\n",
       "Name: proportion, dtype: float64"
      ]
     },
     "execution_count": 97,
     "metadata": {},
     "output_type": "execute_result"
    }
   ],
   "source": [
    "new_df['Party'].value_counts(normalize=True)"
   ]
  },
  {
   "cell_type": "markdown",
   "id": "4ceeccec-247e-4b6c-acd3-33d176f405f9",
   "metadata": {},
   "source": [
    "#### Distribution of polarities present in parties"
   ]
  },
  {
   "cell_type": "code",
   "execution_count": 122,
   "id": "4d849046-cda4-47c8-98a9-b93b3de16262",
   "metadata": {},
   "outputs": [],
   "source": [
    "neutral=0\n",
    "positive=0\n",
    "negative=0"
   ]
  },
  {
   "cell_type": "code",
   "execution_count": 123,
   "id": "799cb4ed-c070-4d92-a140-6427e7efe1d7",
   "metadata": {},
   "outputs": [],
   "source": [
    "for tweet in democrat_tweets:\n",
    "    analysis=TextBlob(str(tweet))\n",
    "    polarity+=analysis.sentiment.polarity\n",
    "\n",
    "    if(analysis.sentiment.polarity==0):\n",
    "        neutral+=1\n",
    "    elif(analysis.sentiment.polarity<0):\n",
    "        negative+=1\n",
    "    elif(analysis.sentiment.polarity>0):\n",
    "        positive+=1"
   ]
  },
  {
   "cell_type": "code",
   "execution_count": 125,
   "id": "b17df8a1-080d-4aa9-a132-52ed4224d4f0",
   "metadata": {},
   "outputs": [
    {
     "name": "stdout",
     "output_type": "stream",
     "text": [
      "Democrats Count\n",
      "422922\n",
      "27525\n",
      "9564\n"
     ]
    }
   ],
   "source": [
    "print('Democrats Count')\n",
    "print(neutral)\n",
    "print(positive)\n",
    "print(negative)"
   ]
  },
  {
   "cell_type": "code",
   "execution_count": 127,
   "id": "e302412f-51cb-4931-8526-f5488ebdf280",
   "metadata": {},
   "outputs": [],
   "source": [
    "neutral=0\n",
    "positive=0\n",
    "negative=0"
   ]
  },
  {
   "cell_type": "code",
   "execution_count": 128,
   "id": "b40082c1-3c38-47a8-b528-25f3ebb41df4",
   "metadata": {},
   "outputs": [],
   "source": [
    "for tweet in republican_tweets:\n",
    "    analysis=TextBlob(str(tweet))\n",
    "    polarity+=analysis.sentiment.polarity\n",
    "\n",
    "    if(analysis.sentiment.polarity==0):\n",
    "        neutral+=1\n",
    "    elif(analysis.sentiment.polarity<0):\n",
    "        negative+=1\n",
    "    elif(analysis.sentiment.polarity>0):\n",
    "        positive+=1"
   ]
  },
  {
   "cell_type": "code",
   "execution_count": 129,
   "id": "ac381484-4d72-4d37-adfb-ab2afe293f2a",
   "metadata": {},
   "outputs": [
    {
     "name": "stdout",
     "output_type": "stream",
     "text": [
      "Republican Count\n",
      "436153\n",
      "30921\n",
      "8740\n"
     ]
    }
   ],
   "source": [
    "print('Republican Count')\n",
    "print(neutral)\n",
    "print(positive)\n",
    "print(negative)"
   ]
  },
  {
   "cell_type": "code",
   "execution_count": null,
   "id": "a888722e-0e02-4ec8-bcc9-2a34e0cb02f4",
   "metadata": {},
   "outputs": [],
   "source": []
  }
 ],
 "metadata": {
  "kernelspec": {
   "display_name": "Python 3 (ipykernel)",
   "language": "python",
   "name": "python3"
  },
  "language_info": {
   "codemirror_mode": {
    "name": "ipython",
    "version": 3
   },
   "file_extension": ".py",
   "mimetype": "text/x-python",
   "name": "python",
   "nbconvert_exporter": "python",
   "pygments_lexer": "ipython3",
   "version": "3.11.4"
  }
 },
 "nbformat": 4,
 "nbformat_minor": 5
}
